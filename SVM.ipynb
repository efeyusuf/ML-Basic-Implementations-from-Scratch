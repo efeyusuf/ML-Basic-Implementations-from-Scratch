{
 "cells": [
  {
   "cell_type": "markdown",
   "metadata": {},
   "source": [
    "# Support Vector Machine (SVM)"
   ]
  },
  {
   "cell_type": "code",
   "execution_count": 35,
   "metadata": {},
   "outputs": [],
   "source": [
    "import numpy as np\n",
    "class SVM():\n",
    "    def __init__(self, lr=0.001, lambda_coef = 0.01, n_iters = 10000):\n",
    "        self.lr = lr\n",
    "        self.lambda_coef = lambda_coef\n",
    "        self.n_iters = n_iters\n",
    "        self.W = None\n",
    "        \n",
    "    def fit(self, X, y):\n",
    "        n,d = X.shape\n",
    "        X_b = np.ones((n,1))\n",
    "        X = np.hstack((X_b, X))\n",
    "        self.W = np.random.normal(loc=0, scale=1, size=d+1)\n",
    "        \n",
    "        for i in range(self.n_iters):\n",
    "            dW = np.zeros(d+1)\n",
    "            for j in range(n):\n",
    "                if y[j]*np.dot(self.W, X[j])<1:\n",
    "                    dW -= y[j]*X[j]\n",
    "            dW /= n\n",
    "            dW += self.lambda_coef*self.W\n",
    "            self.W -= self.lr*dW\n",
    "            \n",
    "    def predict(self, X):\n",
    "        n,d = X.shape\n",
    "        X_b = np.ones((n,1))\n",
    "        X = np.hstack((X_b, X))\n",
    "        z = X@self.W \n",
    "        return np.sign(z)\n",
    "        "
   ]
  },
  {
   "cell_type": "code",
   "execution_count": 36,
   "metadata": {},
   "outputs": [
    {
     "name": "stdout",
     "output_type": "stream",
     "text": [
      "Accuracy: 1.0\n"
     ]
    }
   ],
   "source": [
    "# Example usage\n",
    "from sklearn import datasets\n",
    "from sklearn.model_selection import train_test_split\n",
    "\n",
    "X, y = datasets.make_blobs(n_samples=100, centers=2, random_state=42)\n",
    "y = np.where(y == 0, -1, 1)\n",
    "\n",
    "X_train, X_test, y_train, y_test = train_test_split(X, y, test_size=0.2, random_state=42)\n",
    "\n",
    "svm = SVM()\n",
    "svm.fit(X_train, y_train)\n",
    "y_pred = svm.predict(X_test)\n",
    "\n",
    "\n",
    "# Evaluate model\n",
    "accuracy = accuracy_score(y_test, y_pred)\n",
    "print(\"Accuracy:\", accuracy)"
   ]
  },
  {
   "cell_type": "markdown",
   "metadata": {},
   "source": [
    "## MISC"
   ]
  },
  {
   "cell_type": "code",
   "execution_count": 1,
   "metadata": {},
   "outputs": [
    {
     "data": {
      "text/plain": [
       "array([ 1,  1, -1, -1,  1])"
      ]
     },
     "execution_count": 1,
     "metadata": {},
     "output_type": "execute_result"
    }
   ],
   "source": [
    "import numpy as np\n",
    "y = np.array([1,3,0,-2,0.8])\n",
    "y_ = np.where(y <= 0, -1, 1)\n",
    "y_"
   ]
  },
  {
   "cell_type": "code",
   "execution_count": 5,
   "metadata": {},
   "outputs": [
    {
     "data": {
      "text/plain": [
       "26"
      ]
     },
     "execution_count": 5,
     "metadata": {},
     "output_type": "execute_result"
    }
   ],
   "source": [
    "a = np.array([1,2,3])\n",
    "b = np.array([3,4,5])\n",
    "a@b.T"
   ]
  },
  {
   "cell_type": "code",
   "execution_count": 8,
   "metadata": {},
   "outputs": [
    {
     "data": {
      "text/plain": [
       "array([4.12310563, 5.38516481, 6.70820393])"
      ]
     },
     "execution_count": 8,
     "metadata": {},
     "output_type": "execute_result"
    }
   ],
   "source": [
    "a = np.array([[1,2,3],[4,5,6]])\n",
    "np.linalg.norm(a, ord = 2, axis = 0)"
   ]
  }
 ],
 "metadata": {
  "kernelspec": {
   "display_name": "base",
   "language": "python",
   "name": "python3"
  },
  "language_info": {
   "codemirror_mode": {
    "name": "ipython",
    "version": 3
   },
   "file_extension": ".py",
   "mimetype": "text/x-python",
   "name": "python",
   "nbconvert_exporter": "python",
   "pygments_lexer": "ipython3",
   "version": "3.11.8"
  }
 },
 "nbformat": 4,
 "nbformat_minor": 2
}
