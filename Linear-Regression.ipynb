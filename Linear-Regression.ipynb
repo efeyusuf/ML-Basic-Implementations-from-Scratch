{
 "cells": [
  {
   "cell_type": "markdown",
   "metadata": {},
   "source": [
    "# LINEAR REGRESSION"
   ]
  },
  {
   "cell_type": "markdown",
   "metadata": {},
   "source": [
    "# Single Variable Case:\n",
    "#### y = mx + b\n",
    "#### Loss = L = sum[(mx + b - y)^2]\n",
    "\n",
    "\n",
    "### Partial Derivatives:\n",
    "#### dL/dm = sum[2(mx + b - y)x]\n",
    "#### dL/db = sum[2(mx + b - y)]\n",
    "\n",
    "\n",
    "### Find b in terms of m and x,y values, plug into the first equation, and solve for m:\n",
    "#### m = sum[(x - x_mean)(y - y_mean)] / sum[(x - x_mean)^2]\n",
    "#### b = y_mean - m*x_mean"
   ]
  },
  {
   "cell_type": "code",
   "execution_count": 18,
   "metadata": {},
   "outputs": [],
   "source": [
    "from typing import List\n",
    "import numpy as np\n",
    "\n",
    "class LinearRegressor():\n",
    "    def __init__(self):\n",
    "        self.m = None\n",
    "        self.b = None\n",
    "        \n",
    "    def fit(self, x: List[int], y: List[int]):\n",
    "        x_mean = np.mean(x)\n",
    "        y_mean = np.mean(y)\n",
    "        n = len(x)\n",
    "    \n",
    "        x_sqr_mean  = 0\n",
    "        xy_mean = 0\n",
    "        for i in range(n):\n",
    "            x_sqr_mean += x[i]**2\n",
    "            xy_mean += x[i]*y[i]\n",
    "        \n",
    "        x_sqr_mean /= n\n",
    "        xy_mean /= n\n",
    "        \n",
    "        self.m = (xy_mean - x_mean*y_mean)/(x_sqr_mean - x_mean**2)\n",
    "        #self.b = y_mean - self.m * x_mean\n",
    "        self.b = (y_mean*x_sqr_mean - x_mean*xy_mean)/(x_sqr_mean - x_mean**2)\n",
    "        \n",
    "    def results(self):\n",
    "        return (self.m, self.b)\n",
    "    \n",
    "    def predict(self, x):\n",
    "        return self.m*x + self.b\n",
    "        "
   ]
  },
  {
   "cell_type": "code",
   "execution_count": 19,
   "metadata": {},
   "outputs": [
    {
     "name": "stdout",
     "output_type": "stream",
     "text": [
      "1.9918609766827995 2.0439287285525714\n"
     ]
    }
   ],
   "source": [
    "x = [1, 1.9, 3.1, 4, 4.7]\n",
    "y = [4, 6.3, 7.7, 9.5, 12.0]\n",
    "\n",
    "linreg = LinearRegressor()\n",
    "linreg.fit(x,y)\n",
    "m,b = linreg.results()\n",
    "print(m,b)"
   ]
  },
  {
   "cell_type": "markdown",
   "metadata": {},
   "source": [
    "To make it more efficient, we can convert the lists to numpy arrays and use numpy's efficient sum functions:"
   ]
  },
  {
   "cell_type": "code",
   "execution_count": 20,
   "metadata": {},
   "outputs": [],
   "source": [
    "from typing import List\n",
    "import numpy as np\n",
    "\n",
    "class LinearRegressor():\n",
    "    def __init__(self):\n",
    "        self.m = None\n",
    "        self.b = None\n",
    "        \n",
    "    def fit(self, x: List[int], y: List[int]):\n",
    "        x = np.asarray(x)\n",
    "        y = np.asarray(y)\n",
    "        x_mean = np.mean(x)\n",
    "        y_mean = np.mean(y)\n",
    "        n = len(x)\n",
    "    \n",
    "        nominator_m = np.sum((x-x_mean)*(y-y_mean))\n",
    "        denominator_m = np.sum((x-x_mean)**2)\n",
    "        \n",
    "        self.m = nominator_m/denominator_m\n",
    "        self.b = y_mean - self.m * x_mean\n",
    "        \n",
    "    def results(self):\n",
    "        return (self.m, self.b)\n",
    "    \n",
    "    def predict(self, x):\n",
    "        return self.m*x + self.b"
   ]
  },
  {
   "cell_type": "code",
   "execution_count": 21,
   "metadata": {},
   "outputs": [
    {
     "name": "stdout",
     "output_type": "stream",
     "text": [
      "1.9918609766827975 2.043928728552576\n"
     ]
    }
   ],
   "source": [
    "x = [1, 1.9, 3.1, 4, 4.7]\n",
    "y = [4, 6.3, 7.7, 9.5, 12.0]\n",
    "\n",
    "linreg = LinearRegressor()\n",
    "linreg.fit(x,y)\n",
    "m,b = linreg.results()\n",
    "print(m,b)"
   ]
  },
  {
   "cell_type": "code",
   "execution_count": 22,
   "metadata": {},
   "outputs": [
    {
     "data": {
      "text/plain": [
       "20.966608007039152"
      ]
     },
     "execution_count": 22,
     "metadata": {},
     "output_type": "execute_result"
    }
   ],
   "source": [
    "linreg.predict(9.5)"
   ]
  },
  {
   "cell_type": "markdown",
   "metadata": {},
   "source": [
    "# Many Variable Case\n",
    "\n",
    "Let y: nx1, W: dx1, X: nxd dimensions. n is the sample size. First column of the X matrix will be 1 for all samples, it will be multiplied with w_0 and count as the bias term. This derivation leads to:\n",
    "\n",
    "$$\n",
    "\\mathbf{W} = (\\mathbf{X}^\\top \\mathbf{X})^{-1} \\mathbf{X}^\\top \\mathbf{Y}\n",
    "$$\n",
    "\n",
    "If we keep d=2, it corresponds to the scalar x scenario. So, with this solution, we also derived the scalar case on top of the vector case"
   ]
  },
  {
   "cell_type": "markdown",
   "metadata": {},
   "source": []
  },
  {
   "cell_type": "code",
   "execution_count": 1,
   "metadata": {},
   "outputs": [],
   "source": [
    "import numpy as np\n",
    "class LinRegVec():\n",
    "    def __init__(self):\n",
    "        self.W = None\n",
    "        \n",
    "    def fit(self, X, Y):\n",
    "        n = X.shape[0]\n",
    "        X_b = np.ones((n,1))\n",
    "        X = np.hstack((X_b, X))\n",
    "        self.W = np.linalg.inv(X.T @ X) @ (X.T @ Y)\n",
    "        \n",
    "    def predict(self, X):\n",
    "        n = X.shape[0]\n",
    "        X_b = np.ones((n,1))\n",
    "        X = np.hstack((X_b, X))\n",
    "        return X @ self.W"
   ]
  },
  {
   "cell_type": "code",
   "execution_count": 2,
   "metadata": {},
   "outputs": [
    {
     "name": "stdout",
     "output_type": "stream",
     "text": [
      "[2. 4. 1.]\n",
      "[53. 68.]\n"
     ]
    }
   ],
   "source": [
    "# Create example input data\n",
    "X = np.array([[1, 2], [3, 5], [8, 11]])\n",
    "y = np.array([8, 19, 45])\n",
    "\n",
    "# Fit linear regression model\n",
    "lr = LinRegVec()\n",
    "lr.fit(X, y)\n",
    "print(lr.W) \n",
    "\n",
    "# Make predictions on new data\n",
    "X_new = np.array([[10, 11], [13, 14]])\n",
    "y_pred = lr.predict(X_new)\n",
    "print(y_pred) \n"
   ]
  },
  {
   "cell_type": "code",
   "execution_count": 3,
   "metadata": {},
   "outputs": [
    {
     "data": {
      "text/plain": [
       "array([2., 4., 1.])"
      ]
     },
     "execution_count": 3,
     "metadata": {},
     "output_type": "execute_result"
    }
   ],
   "source": [
    "lr.W"
   ]
  },
  {
   "cell_type": "code",
   "execution_count": 16,
   "metadata": {},
   "outputs": [],
   "source": [
    "import numpy as np\n",
    "a = np.asarray([[1],[2],[3],[4]])\n",
    "b = np.asarray([[5,6,7,8]])"
   ]
  },
  {
   "cell_type": "code",
   "execution_count": 17,
   "metadata": {},
   "outputs": [
    {
     "data": {
      "text/plain": [
       "array([[ 5,  6,  7,  8],\n",
       "       [10, 12, 14, 16],\n",
       "       [15, 18, 21, 24],\n",
       "       [20, 24, 28, 32]])"
      ]
     },
     "execution_count": 17,
     "metadata": {},
     "output_type": "execute_result"
    }
   ],
   "source": [
    "a @ b\n"
   ]
  },
  {
   "cell_type": "code",
   "execution_count": 4,
   "metadata": {},
   "outputs": [
    {
     "data": {
      "text/plain": [
       "array([117, 290])"
      ]
     },
     "execution_count": 4,
     "metadata": {},
     "output_type": "execute_result"
    }
   ],
   "source": [
    "import numpy as np\n",
    "X = np.array([[1, 1, 2], [1, 3, 5]])\n",
    "y = np.array([8, 19, 45])\n",
    "\n",
    "X@y"
   ]
  },
  {
   "cell_type": "code",
   "execution_count": 6,
   "metadata": {},
   "outputs": [
    {
     "data": {
      "text/plain": [
       "array([117, 290])"
      ]
     },
     "execution_count": 6,
     "metadata": {},
     "output_type": "execute_result"
    }
   ],
   "source": [
    "np.dot(X,y)"
   ]
  },
  {
   "cell_type": "code",
   "execution_count": 7,
   "metadata": {},
   "outputs": [
    {
     "data": {
      "text/plain": [
       "array([0., 0., 0., 0.])"
      ]
     },
     "execution_count": 7,
     "metadata": {},
     "output_type": "execute_result"
    }
   ],
   "source": [
    "np.zeros(4)"
   ]
  },
  {
   "cell_type": "code",
   "execution_count": null,
   "metadata": {},
   "outputs": [],
   "source": []
  }
 ],
 "metadata": {
  "kernelspec": {
   "display_name": "base",
   "language": "python",
   "name": "python3"
  },
  "language_info": {
   "codemirror_mode": {
    "name": "ipython",
    "version": 3
   },
   "file_extension": ".py",
   "mimetype": "text/x-python",
   "name": "python",
   "nbconvert_exporter": "python",
   "pygments_lexer": "ipython3",
   "version": "3.11.8"
  }
 },
 "nbformat": 4,
 "nbformat_minor": 2
}
