{
 "cells": [
  {
   "cell_type": "markdown",
   "metadata": {},
   "source": [
    "# K-means Clustering"
   ]
  },
  {
   "cell_type": "code",
   "execution_count": 33,
   "metadata": {},
   "outputs": [],
   "source": [
    "import numpy as np\n",
    "class Kmeans():\n",
    "    def __init__(self, num_iter = 1000, k = 5, tol = 1e-4):\n",
    "        self.num_iter = num_iter\n",
    "        self.k = k\n",
    "        self.tol = tol\n",
    "        self.centroids = None\n",
    "        self.clusters = None\n",
    "        \n",
    "    def fit(self, X):\n",
    "        #Here, X is a (nxd) dimensioned matrix, where n is the number of points and d being the dimension\n",
    "        (n,d) = X.shape\n",
    "        centroid_indices = np.random.choice(n, self.k, replace=False)\n",
    "        centroids = X[centroid_indices]\n",
    "        new_centroids = np.copy(centroids)\n",
    "        clusters = [None]*n\n",
    "        \n",
    "        for z in range(self.num_iter):\n",
    "            for i in range(n):\n",
    "                distances = np.array([np.linalg.norm(X[i]-centroids[j]) for j in range(self.k)])\n",
    "                cluster = np.argmin(distances)\n",
    "                clusters[i] = cluster\n",
    "                \n",
    "            for j in range(self.k):\n",
    "                cluster_points = X[np.where(clusters == j)]\n",
    "                if len(cluster_points)>0:\n",
    "                    new_centroids[j] = np.mean(cluster_points, axis = 0)\n",
    "            \n",
    "            if z>0 and np.linalg.norm(centroids - new_centroids) < self.tol:\n",
    "                break\n",
    "            \n",
    "            centroids = np.copy(new_centroids)\n",
    "            \n",
    "        self.centroids = centroids\n",
    "        self.clusters = clusters\n",
    "        \n",
    "    def predict(self, X):\n",
    "        (m,d) = X.shape\n",
    "        \n",
    "        clusters = [None]*m\n",
    "        for i in range(m):\n",
    "            distances = np.array([np.linalg.norm(X[i]-self.centroids[j]) for j in range(self.k)])\n",
    "            cluster = np.argmin(distances)\n",
    "            clusters[i] = cluster\n",
    "        return clusters\n",
    "        "
   ]
  },
  {
   "cell_type": "code",
   "execution_count": 45,
   "metadata": {},
   "outputs": [
    {
     "name": "stdout",
     "output_type": "stream",
     "text": [
      "[0, 0, 0, 0, 0, 1, 1, 1, 1, 1]\n",
      "[[ 20.92488671  21.69584693]\n",
      " [-20.15791465 -20.69651454]]\n"
     ]
    },
    {
     "name": "stderr",
     "output_type": "stream",
     "text": [
      "/var/folders/9k/51bzjths29v3xm5kqhfz_dlw0000gn/T/ipykernel_40990/3120729881.py:25: DeprecationWarning: Calling nonzero on 0d arrays is deprecated, as it behaves surprisingly. Use `atleast_1d(cond).nonzero()` if the old behavior was intended. If the context of this warning is of the form `arr[nonzero(cond)]`, just use `arr[cond]`.\n",
      "  cluster_points = X[np.where(clusters == j)]\n"
     ]
    }
   ],
   "source": [
    "x1 = np.random.randn(5,2) + 20\n",
    "x2 = np.random.randn(5,2) - 20\n",
    "X = np.concatenate([x1,x2], axis=0)\n",
    "\n",
    "# Initialize the KMeans object with k=2\n",
    "kmeans = Kmeans(k=2)\n",
    "\n",
    "# Fit the k-means model to the dataset\n",
    "kmeans.fit(X)\n",
    "\n",
    "# Get the cluster assignments for the input dataset\n",
    "cluster_assignments = kmeans.predict(X)\n",
    "\n",
    "# Print the cluster assignments\n",
    "print(cluster_assignments)\n",
    "\n",
    "# Print the learned centroids\n",
    "print(kmeans.centroids) "
   ]
  }
 ],
 "metadata": {
  "kernelspec": {
   "display_name": "base",
   "language": "python",
   "name": "python3"
  },
  "language_info": {
   "codemirror_mode": {
    "name": "ipython",
    "version": 3
   },
   "file_extension": ".py",
   "mimetype": "text/x-python",
   "name": "python",
   "nbconvert_exporter": "python",
   "pygments_lexer": "ipython3",
   "version": "3.11.8"
  }
 },
 "nbformat": 4,
 "nbformat_minor": 2
}
